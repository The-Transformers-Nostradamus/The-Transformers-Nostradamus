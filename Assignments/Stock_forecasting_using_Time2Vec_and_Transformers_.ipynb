{
  "cells": [
    {
      "cell_type": "markdown",
      "source": [
        "In this notebook, we will be guiding you on building a Transformer encoder model to predict stock prices. The model will be based on the research papers https://thesai.org/Downloads/Volume12No12/Paper_106-Predicting_Stock_Closing_Prices_in_Emerging_Markets.pdf\n",
        " and https://arxiv.org/abs/2208.08300 with some modifications.\n",
        "\n",
        "\n",
        "### 1. Import the required libraries."
      ],
      "metadata": {
        "id": "Et6Q9WyPqazj"
      }
    },
    {
      "cell_type": "code",
      "execution_count": null,
      "metadata": {
        "id": "Ea-xZAYFQKGN"
      },
      "outputs": [],
      "source": [
        "# data processing and visualization\n",
        "import numpy as np\n",
        "import pandas as pd\n",
        "import os, datetime\n",
        "import matplotlib.pyplot as plt\n",
        "import yfinance as yf\n",
        "from sklearn.preprocessing import MinMaxScaler\n",
        "\n",
        "\n",
        "# for building model\n",
        "import tensorflow as tf\n",
        "import tensorflow.keras as keras\n",
        "from tensorflow.keras import layers,models\n",
        "\n",
        "import warnings\n",
        "warnings.filterwarnings('ignore')"
      ]
    },
    {
      "cell_type": "markdown",
      "source": [
        "### 2. Give stock data using Yahoo Finance API.\n",
        "\n",
        "Find the ticker symbol of any stock and load its data for around 10-15 years."
      ],
      "metadata": {
        "id": "JgY0uj5PvZdq"
      }
    },
    {
      "cell_type": "code",
      "execution_count": null,
      "metadata": {
        "id": "d1V0ycsCp0Ou"
      },
      "outputs": [],
      "source": [
        "# Define the ticker symbol\n",
        "tickerSymbol = '....'\n",
        "\n",
        "# Get data on this ticker\n",
        "tickerData = yf.Ticker(tickerSymbol)\n",
        "\n",
        "# Get the historical prices for this ticker\n",
        "df = tickerData.history(period='1d', start='....', end='....')"
      ]
    },
    {
      "cell_type": "code",
      "execution_count": null,
      "metadata": {
        "id": "4-KQDkEQSR_K"
      },
      "outputs": [],
      "source": [
        "df = df.reset_index()\n",
        "df.head()"
      ]
    },
    {
      "cell_type": "markdown",
      "source": [
        "### 3. Select only the columns : Open, High, Low, Volume, Close.\n",
        "At first, reset the indices of the data as they create problems while plotting.\n",
        "\n",
        "The index of the \"Close\" column matters as it is our target variable.\n",
        "\n",
        "Have a look at the data."
      ],
      "metadata": {
        "id": "qAccmZFLwHVc"
      }
    },
    {
      "cell_type": "code",
      "execution_count": null,
      "metadata": {
        "id": "3Tb69WcjS2gv"
      },
      "outputs": [],
      "source": []
    },
    {
      "cell_type": "markdown",
      "source": [
        "### 4. On running the following cell , you can see the Close price of the stock and the Volume plotted against time."
      ],
      "metadata": {
        "id": "WPZ4sg36wn4Y"
      }
    },
    {
      "cell_type": "code",
      "execution_count": null,
      "metadata": {
        "id": "kzDcYZVfS4Jg"
      },
      "outputs": [],
      "source": [
        "fig = plt.figure(figsize=(15,8))\n",
        "st = fig.suptitle(\"Close Price and Volume\", fontsize=20)\n",
        "st.set_y(0.92)\n",
        "\n",
        "ax1 = fig.add_subplot(211)\n",
        "ax1.plot(df['Close'], label='Close Price')\n",
        "ax1.set_ylabel('Close Price', fontsize=18)\n",
        "ax1.legend(loc=\"upper left\", fontsize=12)\n",
        "\n",
        "ax2 = fig.add_subplot(212)\n",
        "ax2.plot(df['Volume'], label='Volume')\n",
        "ax2.set_ylabel('Volume', fontsize=18)\n",
        "ax2.legend(loc=\"upper left\", fontsize=12)"
      ]
    },
    {
      "cell_type": "markdown",
      "source": [
        "### 5. Use Min Max Scaler to scale the data in the range (0,1).\n",
        "\n",
        "Remeber not to lose the dataframe. Instead store the scaled data in a new variable. You would need the stock data afterwards.\n",
        "\n",
        "Have a look at the data. Also check its shape."
      ],
      "metadata": {
        "id": "DUqt5zpVxCGD"
      }
    },
    {
      "cell_type": "code",
      "execution_count": null,
      "metadata": {
        "id": "_UewgWp7UlnW"
      },
      "outputs": [],
      "source": []
    },
    {
      "cell_type": "markdown",
      "source": [
        "### 6. Creating sequences from the data.\n",
        "\n",
        "We want to build a model that can take stock data of 10 days to predict the data for the 11th day. For that, we have to input sequences and corresponding targets from the data."
      ],
      "metadata": {
        "id": "V55hyEyJxXES"
      }
    },
    {
      "cell_type": "code",
      "execution_count": null,
      "metadata": {
        "id": "76CYOUaalgEK"
      },
      "outputs": [],
      "source": [
        "sequence_length =10\n",
        "input_sequences=[]\n",
        "targets=[]\n",
        "for i in range(\"......\"):\n",
        "    input_sequences.append(data[\"........\"])\n",
        "    targets.append(data[\".....\"])\n",
        "\n",
        "input_sequences = np.array(input_sequences)\n",
        "targets = np.array(targets)"
      ]
    },
    {
      "cell_type": "markdown",
      "source": [
        "### 7. Split the data\n",
        "\n",
        "Split the data into training and testing samples. Don't shuffle. Order matters !"
      ],
      "metadata": {
        "id": "FpPl8wClybzg"
      }
    },
    {
      "cell_type": "code",
      "execution_count": null,
      "metadata": {
        "id": "zLqyMRreW5bt"
      },
      "outputs": [],
      "source": []
    },
    {
      "cell_type": "markdown",
      "source": [
        "### 8. Create a class Time2Vec for time2vec encoding of our input sequences.\n",
        "\n",
        "The research paper of time2vec encoding is here :  https://arxiv.org/pdf/1907.05321v1.pdf\n",
        "\n",
        "It has 2 weights and 2 bias matrices.\n",
        "1. Z1 = Weights w1 * inputs + bias b1\n",
        "2. Z2 = Weights w2 * Z1 + bias b2\n",
        "3. output = Z2\n",
        "\n",
        "\n",
        "This will return output sequences of shape (10,x) where x = kernel_size , an input parameter for the class. In the Encoder Block, we will concatenate it on our inputs."
      ],
      "metadata": {
        "id": "TQbzO8-Iyw-m"
      }
    },
    {
      "cell_type": "code",
      "execution_count": null,
      "metadata": {
        "id": "eIC0PQowhzTQ"
      },
      "outputs": [],
      "source": [
        "class Time2Vec(keras.layers.Layer):\n",
        "    def __init__(self, kernel_size):\n",
        "        super().__init__(trainable=True, name='Time2Vec')\n",
        "        self.k = kernel_size\n",
        "\n",
        "    def build(self, input_shape):\n",
        "        \"\"\"\n",
        "        .....\n",
        "\n",
        "        \"\"\"\n",
        "        super().build(input_shape)\n",
        "\n",
        "    def call(self, inputs, **kwargs):\n",
        "        \"\"\"....\"\"\"\n",
        "        return"
      ]
    },
    {
      "cell_type": "markdown",
      "source": [
        "### 9. Creating a transformer Encoder model.\n",
        "\n",
        "1. Start by creating an encoder layer. It should take the following parameters while initialisation :\n",
        "> a) Number of heads for the Multi Head Attention layer.<br/>\n",
        "b) Embedding dimension : 5+x .<br/>\n",
        "c) Dimensions of the feed forward layer.<br/>\n",
        "d) Dropout rate.\n",
        ">\n",
        "Its architecture :\n",
        "\n",
        "  1. Multi Head Attention\n",
        "  2. Dropout layer for regularization.\n",
        "  3. Addition and Layer Normalization.\n",
        "  4. A Feed forward network which returns output of the same shape as embedding dimension.\n",
        "  5. Dropout.\n",
        "  6. Addition and Layer Normalization.\n"
      ],
      "metadata": {
        "id": "1x1KVc1M0XS2"
      }
    },
    {
      "cell_type": "code",
      "execution_count": null,
      "metadata": {
        "id": "TdvxIvZyka1e"
      },
      "outputs": [],
      "source": [
        "class TransformerEncoder(layers.Layer):\n",
        "    def __init__(self, num_heads, embed_dim, feed_forward_dim, rate):\n",
        "        super().__init__()\n",
        "        \"\"\"....\"\"\"\n",
        "\n",
        "    def call(self, inputs, training):\n",
        "        \"\"\"....\"\"\"\n",
        "        return"
      ]
    },
    {
      "cell_type": "markdown",
      "source": [
        "2. Then create the encoder model. It should take the following parameters while initialisation :\n",
        "> a) Number of heads for the Multi Head Attention layer.<br/>\n",
        "b) Time_steps : 10 . Stock data of 10 days as input. <br/>\n",
        "c) Features : 5 . 5 features for each day price. <br/>\n",
        "d) Kernel size for the time2vec encoding : x .<br/>\n",
        "e) Dimensions of the feed forward layer inside the encoder layer.<br/>\n",
        "f) Number of encoder layers to be stacked.<br/>\n",
        "g) Dropout rate.\n",
        ">\n",
        "Its architecture :\n",
        "\n",
        "  1. Optional Input Layer\n",
        "  2. Time2Vec encoding\n",
        "  3. Sequential Model for the stack of encoder layers.\n",
        "  >\n",
        "  This will return output vectors of shape (10,5+x) but we need predictions of shape (1,5). So...\n",
        "  4. Global Average Pooling Layer to make outputs of shape (1,5+x).\n",
        "  5. Dropout.\n",
        "  6. A Feed Forward Layer.\n",
        "  7. Dropout\n",
        "  8. Final Feed Forward Layer."
      ],
      "metadata": {
        "id": "73wUePqk2rfm"
      }
    },
    {
      "cell_type": "code",
      "execution_count": null,
      "metadata": {
        "id": "MW8g9EsuUFff"
      },
      "outputs": [],
      "source": [
        "class T2VTransformer(keras.Model):\n",
        "    def __init__(self):\n",
        "\n",
        "        super().__init__()\n",
        "\n",
        "\n",
        "    def call(self, inputs):\n",
        "\n",
        "        return"
      ]
    },
    {
      "cell_type": "markdown",
      "source": [
        "### 10. Create an instance of the model.\n",
        "\n",
        "Adam Optimizer and MSE loss function. Fit the model on the training data."
      ],
      "metadata": {
        "id": "MnYKv_ZV7apl"
      }
    },
    {
      "cell_type": "code",
      "execution_count": null,
      "metadata": {
        "id": "1ds7o5Byk2dl"
      },
      "outputs": [],
      "source": [
        "model = T2VTransformer(\"\"\"...\"\"\")\n",
        "\n",
        "opt = \"\"\"...\"\"\"\n",
        "model.compile(\"\"\"...\"\"\")"
      ]
    },
    {
      "cell_type": "code",
      "execution_count": null,
      "metadata": {
        "id": "cwEf-Vy3Z3zd"
      },
      "outputs": [],
      "source": []
    },
    {
      "cell_type": "markdown",
      "source": [
        "### 11. Testing\n",
        "\n",
        "Evaluate the model performance on the test data.\n",
        "\n",
        "Store the model predictions on the test data.\n",
        "\n",
        "Inverse transform the predictions and the test targets to bring them to their original scale. Then calculate MSE.\n",
        "\n",
        "Plot the predictions and the test targets.\n",
        "\n",
        "Instead, you can predict on the entire data and plot the graph."
      ],
      "metadata": {
        "id": "pRsBwHvSyx9t"
      }
    },
    {
      "cell_type": "code",
      "source": [],
      "metadata": {
        "id": "BvwOi4elpkZm"
      },
      "execution_count": null,
      "outputs": []
    },
    {
      "cell_type": "markdown",
      "source": [
        "## Limitations of the model\n",
        "\n",
        "The model can be used to predict stock data for only the next day. You may consider taking that prediction and use it as input to predict data two days later. However, after some time, the model will only output a single value. It can't be operated for a long time prediction.\n",
        "\n",
        "<b>How can we predict for more days in the future ?\n",
        "\n",
        "</b> We have to train another model that will be trained on the specific number of days that has to be predicted.\n",
        "\n",
        "Let's try out a 3-days model.\n",
        "\n",
        "### What are the challenges ?\n",
        "\n",
        "A feed forward network can't produce outputs of shape (m,n) . So, we will produce outputs of shape m*n and then reshape them. tf.reduce_prod() and tf.reshape() can be a lifesaver.\n",
        "\n",
        "Pass num_days as an extra parameter to the model.\n",
        "\n",
        "Split the data accordingly."
      ],
      "metadata": {
        "id": "oTOBWkvO4prh"
      }
    },
    {
      "cell_type": "code",
      "source": [
        "num_days =3"
      ],
      "metadata": {
        "id": "6lJEKBxz-Xe9"
      },
      "execution_count": null,
      "outputs": []
    },
    {
      "cell_type": "code",
      "source": [
        "class T2VTransformer(keras.Model):\n",
        "    def __init__(self,num_days,....):\n",
        "        \"\"\"...same as previous...\"\"\"\n",
        "\n",
        "    def call(self, inputs):\n",
        "        return"
      ],
      "metadata": {
        "id": "9Dr-a5zL4lFY"
      },
      "execution_count": null,
      "outputs": []
    },
    {
      "cell_type": "code",
      "source": [],
      "metadata": {
        "id": "USGZvhpA99Uz"
      },
      "execution_count": null,
      "outputs": []
    },
    {
      "cell_type": "markdown",
      "source": [
        "Load the data."
      ],
      "metadata": {
        "id": "wfabogcXi8ZR"
      }
    },
    {
      "cell_type": "code",
      "source": [],
      "metadata": {
        "id": "O03BeyRA-Kll"
      },
      "execution_count": null,
      "outputs": []
    },
    {
      "cell_type": "markdown",
      "source": [
        "Plot 3 graphs (predictions for each day)."
      ],
      "metadata": {
        "id": "LyYiro6-jCuK"
      }
    },
    {
      "cell_type": "code",
      "source": [],
      "metadata": {
        "id": "ZJz8No2VGulN"
      },
      "execution_count": null,
      "outputs": []
    },
    {
      "cell_type": "markdown",
      "source": [
        "## Improvements that has to be made\n",
        "\n",
        "In the upcoming weeks, we have to automate the process of making models according to num-days. Moreover, we need to save the models so that they need not be trained again and again."
      ],
      "metadata": {
        "id": "sA72FPkLJQ9y"
      }
    }
  ],
  "metadata": {
    "colab": {
      "provenance": [],
      "gpuType": "T4"
    },
    "kernelspec": {
      "display_name": "Python 3",
      "name": "python3"
    },
    "language_info": {
      "name": "python"
    },
    "accelerator": "GPU"
  },
  "nbformat": 4,
  "nbformat_minor": 0
}